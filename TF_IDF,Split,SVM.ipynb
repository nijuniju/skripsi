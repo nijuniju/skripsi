{
  "nbformat": 4,
  "nbformat_minor": 0,
  "metadata": {
    "colab": {
      "provenance": [],
      "authorship_tag": "ABX9TyPTpnMn0KXg0BZ/4nXhASRv",
      "include_colab_link": true
    },
    "kernelspec": {
      "name": "python3",
      "display_name": "Python 3"
    },
    "language_info": {
      "name": "python"
    }
  },
  "cells": [
    {
      "cell_type": "markdown",
      "metadata": {
        "id": "view-in-github",
        "colab_type": "text"
      },
      "source": [
        "<a href=\"https://colab.research.google.com/github/nijuniju/skripsi/blob/main/TF_IDF%2CSplit%2CSVM.ipynb\" target=\"_parent\"><img src=\"https://colab.research.google.com/assets/colab-badge.svg\" alt=\"Open In Colab\"/></a>"
      ]
    },
    {
      "cell_type": "markdown",
      "source": [
        "##TF-IDF##"
      ],
      "metadata": {
        "id": "Zw2qRfhA7OwP"
      }
    },
    {
      "cell_type": "code",
      "execution_count": 20,
      "metadata": {
        "id": "q3k42LYSKFmI"
      },
      "outputs": [],
      "source": [
        "import pandas as pd\n",
        "from sklearn.feature_extraction.text import TfidfVectorizer"
      ]
    },
    {
      "cell_type": "code",
      "source": [
        "from google.colab import drive\n",
        "drive.mount('/content/drive')"
      ],
      "metadata": {
        "colab": {
          "base_uri": "https://localhost:8080/"
        },
        "id": "QEj7gSCLKf1O",
        "outputId": "058bcff9-45dd-4f68-d211-f69175b75f68"
      },
      "execution_count": 21,
      "outputs": [
        {
          "output_type": "stream",
          "name": "stdout",
          "text": [
            "Drive already mounted at /content/drive; to attempt to forcibly remount, call drive.mount(\"/content/drive\", force_remount=True).\n"
          ]
        }
      ]
    },
    {
      "cell_type": "code",
      "source": [
        "df = pd.read_csv(\"/content/drive/MyDrive/Data/data_labelled.csv\")\n",
        "df.head()"
      ],
      "metadata": {
        "id": "SjYGJH66KNau",
        "colab": {
          "base_uri": "https://localhost:8080/",
          "height": 414
        },
        "outputId": "3fd2df20-5af9-40b5-869b-712379bb9ff9"
      },
      "execution_count": 22,
      "outputs": [
        {
          "output_type": "execute_result",
          "data": {
            "text/plain": [
              "                                          data_token  \\\n",
              "0  ['kenapa', 'selalu', 'bermasalah', 'ini', 'ico...   \n",
              "1  ['baru', 'di', 'pake', 'error', 'lagi', 'mauny...   \n",
              "2       ['cape', 'bgt', 'hari-hari', 'gini', 'mulu']   \n",
              "3                               ['gangguan', 'lagi']   \n",
              "4  ['udah', '3', 'hari', 'gak', 'bisa', 'akses', ...   \n",
              "\n",
              "                                          data_slang  \\\n",
              "0  ['kenapa', 'selalu', 'bermasalah', 'ini', 'ico...   \n",
              "1  ['baru', 'di', 'pakai', 'gangguan', 'lagi', 'm...   \n",
              "2  ['kesal', 'sekali', 'hari-hari', 'begini', 'se...   \n",
              "3                               ['gangguan', 'lagi']   \n",
              "4  ['sudah', '3', 'hari', 'tidak', 'bisa', 'akses...   \n",
              "\n",
              "                                      data_stopwords  \\\n",
              "0  ['kenapa', 'selalu', 'bermasalah', 'ini', 'ico...   \n",
              "1  ['baru', 'di', 'pakai', 'gangguan', 'lagi', 'm...   \n",
              "2  ['kesal', 'sekali', 'hari-hari', 'begini', 'se...   \n",
              "3                               ['gangguan', 'lagi']   \n",
              "4  ['sudah', '3', 'hari', 'tidak', 'bisa', 'akses...   \n",
              "\n",
              "                                        data_stemmed sentiment  \n",
              "0  kenapa selalu masalah ini iconnet tagih selalu...  negative  \n",
              "1  baru di pakai ganggu lagi mau apa sih sampai s...  negative  \n",
              "2                    kesal sekali hari begini selalu  negative  \n",
              "3                                        ganggu lagi  negative  \n",
              "4  sudah 3 hari tidak bisa akses internet tidak a...  negative  "
            ],
            "text/html": [
              "\n",
              "  <div id=\"df-faa4ee3b-2473-4ff6-a129-dcfb5bf697eb\" class=\"colab-df-container\">\n",
              "    <div>\n",
              "<style scoped>\n",
              "    .dataframe tbody tr th:only-of-type {\n",
              "        vertical-align: middle;\n",
              "    }\n",
              "\n",
              "    .dataframe tbody tr th {\n",
              "        vertical-align: top;\n",
              "    }\n",
              "\n",
              "    .dataframe thead th {\n",
              "        text-align: right;\n",
              "    }\n",
              "</style>\n",
              "<table border=\"1\" class=\"dataframe\">\n",
              "  <thead>\n",
              "    <tr style=\"text-align: right;\">\n",
              "      <th></th>\n",
              "      <th>data_token</th>\n",
              "      <th>data_slang</th>\n",
              "      <th>data_stopwords</th>\n",
              "      <th>data_stemmed</th>\n",
              "      <th>sentiment</th>\n",
              "    </tr>\n",
              "  </thead>\n",
              "  <tbody>\n",
              "    <tr>\n",
              "      <th>0</th>\n",
              "      <td>['kenapa', 'selalu', 'bermasalah', 'ini', 'ico...</td>\n",
              "      <td>['kenapa', 'selalu', 'bermasalah', 'ini', 'ico...</td>\n",
              "      <td>['kenapa', 'selalu', 'bermasalah', 'ini', 'ico...</td>\n",
              "      <td>kenapa selalu masalah ini iconnet tagih selalu...</td>\n",
              "      <td>negative</td>\n",
              "    </tr>\n",
              "    <tr>\n",
              "      <th>1</th>\n",
              "      <td>['baru', 'di', 'pake', 'error', 'lagi', 'mauny...</td>\n",
              "      <td>['baru', 'di', 'pakai', 'gangguan', 'lagi', 'm...</td>\n",
              "      <td>['baru', 'di', 'pakai', 'gangguan', 'lagi', 'm...</td>\n",
              "      <td>baru di pakai ganggu lagi mau apa sih sampai s...</td>\n",
              "      <td>negative</td>\n",
              "    </tr>\n",
              "    <tr>\n",
              "      <th>2</th>\n",
              "      <td>['cape', 'bgt', 'hari-hari', 'gini', 'mulu']</td>\n",
              "      <td>['kesal', 'sekali', 'hari-hari', 'begini', 'se...</td>\n",
              "      <td>['kesal', 'sekali', 'hari-hari', 'begini', 'se...</td>\n",
              "      <td>kesal sekali hari begini selalu</td>\n",
              "      <td>negative</td>\n",
              "    </tr>\n",
              "    <tr>\n",
              "      <th>3</th>\n",
              "      <td>['gangguan', 'lagi']</td>\n",
              "      <td>['gangguan', 'lagi']</td>\n",
              "      <td>['gangguan', 'lagi']</td>\n",
              "      <td>ganggu lagi</td>\n",
              "      <td>negative</td>\n",
              "    </tr>\n",
              "    <tr>\n",
              "      <th>4</th>\n",
              "      <td>['udah', '3', 'hari', 'gak', 'bisa', 'akses', ...</td>\n",
              "      <td>['sudah', '3', 'hari', 'tidak', 'bisa', 'akses...</td>\n",
              "      <td>['sudah', '3', 'hari', 'tidak', 'bisa', 'akses...</td>\n",
              "      <td>sudah 3 hari tidak bisa akses internet tidak a...</td>\n",
              "      <td>negative</td>\n",
              "    </tr>\n",
              "  </tbody>\n",
              "</table>\n",
              "</div>\n",
              "    <div class=\"colab-df-buttons\">\n",
              "\n",
              "  <div class=\"colab-df-container\">\n",
              "    <button class=\"colab-df-convert\" onclick=\"convertToInteractive('df-faa4ee3b-2473-4ff6-a129-dcfb5bf697eb')\"\n",
              "            title=\"Convert this dataframe to an interactive table.\"\n",
              "            style=\"display:none;\">\n",
              "\n",
              "  <svg xmlns=\"http://www.w3.org/2000/svg\" height=\"24px\" viewBox=\"0 -960 960 960\">\n",
              "    <path d=\"M120-120v-720h720v720H120Zm60-500h600v-160H180v160Zm220 220h160v-160H400v160Zm0 220h160v-160H400v160ZM180-400h160v-160H180v160Zm440 0h160v-160H620v160ZM180-180h160v-160H180v160Zm440 0h160v-160H620v160Z\"/>\n",
              "  </svg>\n",
              "    </button>\n",
              "\n",
              "  <style>\n",
              "    .colab-df-container {\n",
              "      display:flex;\n",
              "      gap: 12px;\n",
              "    }\n",
              "\n",
              "    .colab-df-convert {\n",
              "      background-color: #E8F0FE;\n",
              "      border: none;\n",
              "      border-radius: 50%;\n",
              "      cursor: pointer;\n",
              "      display: none;\n",
              "      fill: #1967D2;\n",
              "      height: 32px;\n",
              "      padding: 0 0 0 0;\n",
              "      width: 32px;\n",
              "    }\n",
              "\n",
              "    .colab-df-convert:hover {\n",
              "      background-color: #E2EBFA;\n",
              "      box-shadow: 0px 1px 2px rgba(60, 64, 67, 0.3), 0px 1px 3px 1px rgba(60, 64, 67, 0.15);\n",
              "      fill: #174EA6;\n",
              "    }\n",
              "\n",
              "    .colab-df-buttons div {\n",
              "      margin-bottom: 4px;\n",
              "    }\n",
              "\n",
              "    [theme=dark] .colab-df-convert {\n",
              "      background-color: #3B4455;\n",
              "      fill: #D2E3FC;\n",
              "    }\n",
              "\n",
              "    [theme=dark] .colab-df-convert:hover {\n",
              "      background-color: #434B5C;\n",
              "      box-shadow: 0px 1px 3px 1px rgba(0, 0, 0, 0.15);\n",
              "      filter: drop-shadow(0px 1px 2px rgba(0, 0, 0, 0.3));\n",
              "      fill: #FFFFFF;\n",
              "    }\n",
              "  </style>\n",
              "\n",
              "    <script>\n",
              "      const buttonEl =\n",
              "        document.querySelector('#df-faa4ee3b-2473-4ff6-a129-dcfb5bf697eb button.colab-df-convert');\n",
              "      buttonEl.style.display =\n",
              "        google.colab.kernel.accessAllowed ? 'block' : 'none';\n",
              "\n",
              "      async function convertToInteractive(key) {\n",
              "        const element = document.querySelector('#df-faa4ee3b-2473-4ff6-a129-dcfb5bf697eb');\n",
              "        const dataTable =\n",
              "          await google.colab.kernel.invokeFunction('convertToInteractive',\n",
              "                                                    [key], {});\n",
              "        if (!dataTable) return;\n",
              "\n",
              "        const docLinkHtml = 'Like what you see? Visit the ' +\n",
              "          '<a target=\"_blank\" href=https://colab.research.google.com/notebooks/data_table.ipynb>data table notebook</a>'\n",
              "          + ' to learn more about interactive tables.';\n",
              "        element.innerHTML = '';\n",
              "        dataTable['output_type'] = 'display_data';\n",
              "        await google.colab.output.renderOutput(dataTable, element);\n",
              "        const docLink = document.createElement('div');\n",
              "        docLink.innerHTML = docLinkHtml;\n",
              "        element.appendChild(docLink);\n",
              "      }\n",
              "    </script>\n",
              "  </div>\n",
              "\n",
              "\n",
              "<div id=\"df-ba1ff13e-987f-42dd-940c-d9dc57738c36\">\n",
              "  <button class=\"colab-df-quickchart\" onclick=\"quickchart('df-ba1ff13e-987f-42dd-940c-d9dc57738c36')\"\n",
              "            title=\"Suggest charts\"\n",
              "            style=\"display:none;\">\n",
              "\n",
              "<svg xmlns=\"http://www.w3.org/2000/svg\" height=\"24px\"viewBox=\"0 0 24 24\"\n",
              "     width=\"24px\">\n",
              "    <g>\n",
              "        <path d=\"M19 3H5c-1.1 0-2 .9-2 2v14c0 1.1.9 2 2 2h14c1.1 0 2-.9 2-2V5c0-1.1-.9-2-2-2zM9 17H7v-7h2v7zm4 0h-2V7h2v10zm4 0h-2v-4h2v4z\"/>\n",
              "    </g>\n",
              "</svg>\n",
              "  </button>\n",
              "\n",
              "<style>\n",
              "  .colab-df-quickchart {\n",
              "      --bg-color: #E8F0FE;\n",
              "      --fill-color: #1967D2;\n",
              "      --hover-bg-color: #E2EBFA;\n",
              "      --hover-fill-color: #174EA6;\n",
              "      --disabled-fill-color: #AAA;\n",
              "      --disabled-bg-color: #DDD;\n",
              "  }\n",
              "\n",
              "  [theme=dark] .colab-df-quickchart {\n",
              "      --bg-color: #3B4455;\n",
              "      --fill-color: #D2E3FC;\n",
              "      --hover-bg-color: #434B5C;\n",
              "      --hover-fill-color: #FFFFFF;\n",
              "      --disabled-bg-color: #3B4455;\n",
              "      --disabled-fill-color: #666;\n",
              "  }\n",
              "\n",
              "  .colab-df-quickchart {\n",
              "    background-color: var(--bg-color);\n",
              "    border: none;\n",
              "    border-radius: 50%;\n",
              "    cursor: pointer;\n",
              "    display: none;\n",
              "    fill: var(--fill-color);\n",
              "    height: 32px;\n",
              "    padding: 0;\n",
              "    width: 32px;\n",
              "  }\n",
              "\n",
              "  .colab-df-quickchart:hover {\n",
              "    background-color: var(--hover-bg-color);\n",
              "    box-shadow: 0 1px 2px rgba(60, 64, 67, 0.3), 0 1px 3px 1px rgba(60, 64, 67, 0.15);\n",
              "    fill: var(--button-hover-fill-color);\n",
              "  }\n",
              "\n",
              "  .colab-df-quickchart-complete:disabled,\n",
              "  .colab-df-quickchart-complete:disabled:hover {\n",
              "    background-color: var(--disabled-bg-color);\n",
              "    fill: var(--disabled-fill-color);\n",
              "    box-shadow: none;\n",
              "  }\n",
              "\n",
              "  .colab-df-spinner {\n",
              "    border: 2px solid var(--fill-color);\n",
              "    border-color: transparent;\n",
              "    border-bottom-color: var(--fill-color);\n",
              "    animation:\n",
              "      spin 1s steps(1) infinite;\n",
              "  }\n",
              "\n",
              "  @keyframes spin {\n",
              "    0% {\n",
              "      border-color: transparent;\n",
              "      border-bottom-color: var(--fill-color);\n",
              "      border-left-color: var(--fill-color);\n",
              "    }\n",
              "    20% {\n",
              "      border-color: transparent;\n",
              "      border-left-color: var(--fill-color);\n",
              "      border-top-color: var(--fill-color);\n",
              "    }\n",
              "    30% {\n",
              "      border-color: transparent;\n",
              "      border-left-color: var(--fill-color);\n",
              "      border-top-color: var(--fill-color);\n",
              "      border-right-color: var(--fill-color);\n",
              "    }\n",
              "    40% {\n",
              "      border-color: transparent;\n",
              "      border-right-color: var(--fill-color);\n",
              "      border-top-color: var(--fill-color);\n",
              "    }\n",
              "    60% {\n",
              "      border-color: transparent;\n",
              "      border-right-color: var(--fill-color);\n",
              "    }\n",
              "    80% {\n",
              "      border-color: transparent;\n",
              "      border-right-color: var(--fill-color);\n",
              "      border-bottom-color: var(--fill-color);\n",
              "    }\n",
              "    90% {\n",
              "      border-color: transparent;\n",
              "      border-bottom-color: var(--fill-color);\n",
              "    }\n",
              "  }\n",
              "</style>\n",
              "\n",
              "  <script>\n",
              "    async function quickchart(key) {\n",
              "      const quickchartButtonEl =\n",
              "        document.querySelector('#' + key + ' button');\n",
              "      quickchartButtonEl.disabled = true;  // To prevent multiple clicks.\n",
              "      quickchartButtonEl.classList.add('colab-df-spinner');\n",
              "      try {\n",
              "        const charts = await google.colab.kernel.invokeFunction(\n",
              "            'suggestCharts', [key], {});\n",
              "      } catch (error) {\n",
              "        console.error('Error during call to suggestCharts:', error);\n",
              "      }\n",
              "      quickchartButtonEl.classList.remove('colab-df-spinner');\n",
              "      quickchartButtonEl.classList.add('colab-df-quickchart-complete');\n",
              "    }\n",
              "    (() => {\n",
              "      let quickchartButtonEl =\n",
              "        document.querySelector('#df-ba1ff13e-987f-42dd-940c-d9dc57738c36 button');\n",
              "      quickchartButtonEl.style.display =\n",
              "        google.colab.kernel.accessAllowed ? 'block' : 'none';\n",
              "    })();\n",
              "  </script>\n",
              "</div>\n",
              "\n",
              "    </div>\n",
              "  </div>\n"
            ],
            "application/vnd.google.colaboratory.intrinsic+json": {
              "type": "dataframe",
              "variable_name": "df",
              "summary": "{\n  \"name\": \"df\",\n  \"rows\": 708,\n  \"fields\": [\n    {\n      \"column\": \"data_token\",\n      \"properties\": {\n        \"dtype\": \"string\",\n        \"num_unique_values\": 696,\n        \"samples\": [\n          \"['menurut', 'gue', 'sih', 'ini', 'keterlaluan', 'dan', 'gila', 'ya', 'stepnya', 'ga', 'jelas', 'dikasi', 'waktu', 'cuman', '1', 'menit', 'tuh', 'gimana', 'si', 'konsepnya', 'buat', 'kalian', 'yg', 'komplek', 'rumahnya', 'blom', 'di', 'kuasain', 'sm', 'first', 'media', 'dan', 'iconnet', 'mending', 'gausah', 'deh', 'langganan', 'iconnet', 'wifi', 'cs', 'dan', 'pelayanan', 'terbobrok']\",\n          \"['btw', 'ip', 'dari', 'isp', 'iconnet', 'kena', 'blok', 'waf', 'nya', 'bsi', 'ya', 'min', 'begitu', 'saya', 'buka', 'make', 'vpn', 'dari', 'ip', 'aws', 'aman', 'saya', 'kira', 'layanan', 'bsi', 'nya', 'yang', 'memang', 'down', 'dari', 'jam', '1', 'malam', 'saat', 'saya', 'akses', 'mbanking', 'nya']\",\n          \"['iconnet', 'kalo', 'belum', 'siap', 'dan', 'jaringan', 'nya', 'tidak', 'stabil', 'mending', 'banting', 'stir', 'jadi', 'tukang', 'pisang', 'crispy', 'weh', 'anying', 'piaraleun']\"\n        ],\n        \"semantic_type\": \"\",\n        \"description\": \"\"\n      }\n    },\n    {\n      \"column\": \"data_slang\",\n      \"properties\": {\n        \"dtype\": \"string\",\n        \"num_unique_values\": 696,\n        \"samples\": [\n          \"['menurut', 'aku', 'sih', 'ini', 'keterlaluan', 'dan', 'gila', 'ya', 'stepnya', 'tidak', 'jelas', 'kasih', 'waktu', 'hanya', '1', 'menit', 'itu', 'gimana', 'sih', 'konsepnya', 'buat', 'kalian', 'yang', 'komplek', 'rumahnya', 'blom', 'di', 'kuasain', 'sama', 'pertama', 'media', 'dan', 'iconnet', 'mending', 'tidak', 'deh', 'langganan', 'iconnet', 'wifi', 'cs', 'dan', 'pelayanan', 'terbobrok']\",\n          \"['omong', 'ip', 'dari', 'isp', 'iconnet', 'kena', 'blok', 'waf', 'nya', 'bsi', 'ya', 'iconnet', 'begitu', 'aku', 'buka', 'buat', 'vpn', 'dari', 'ip', 'aws', 'aman', 'aku', 'kira', 'layanan', 'bsi', 'nya', 'yang', 'memang', 'down', 'dari', 'jam', '1', 'malam', 'saat', 'aku', 'akses', 'mbanking', 'nya']\",\n          \"['iconnet', 'kalau', 'belum', 'siap', 'dan', 'jaringan', 'nya', 'tidak', 'stabil', 'mending', 'banting', 'stir', 'jadi', 'tukang', 'pisang', 'crispy', 'weh', 'anjing', 'piaraleun']\"\n        ],\n        \"semantic_type\": \"\",\n        \"description\": \"\"\n      }\n    },\n    {\n      \"column\": \"data_stopwords\",\n      \"properties\": {\n        \"dtype\": \"string\",\n        \"num_unique_values\": 696,\n        \"samples\": [\n          \"['menurut', 'aku', 'sih', 'ini', 'keterlaluan', 'dan', 'gila', 'ya', 'stepnya', 'tidak', 'jelas', 'kasih', 'waktu', 'hanya', '1', 'menit', 'itu', 'gimana', 'sih', 'konsepnya', 'buat', 'kalian', 'yang', 'komplek', 'rumahnya', 'blom', 'di', 'kuasain', 'sama', 'pertama', 'media', 'dan', 'iconnet', 'mending', 'tidak', 'deh', 'langganan', 'iconnet', 'wifi', 'cs', 'dan', 'pelayanan', 'terbobrok']\",\n          \"['omong', 'ip', 'dari', 'isp', 'iconnet', 'kena', 'blok', 'waf', 'nya', 'bsi', 'ya', 'iconnet', 'begitu', 'aku', 'buka', 'buat', 'vpn', 'dari', 'ip', 'aws', 'aman', 'aku', 'kira', 'layanan', 'bsi', 'nya', 'yang', 'memang', 'down', 'dari', 'jam', '1', 'malam', 'saat', 'aku', 'akses', 'mbanking', 'nya']\",\n          \"['iconnet', 'kalau', 'belum', 'siap', 'dan', 'jaringan', 'nya', 'tidak', 'stabil', 'mending', 'banting', 'stir', 'jadi', 'tukang', 'pisang', 'crispy', 'weh', 'anjing', 'piaraleun']\"\n        ],\n        \"semantic_type\": \"\",\n        \"description\": \"\"\n      }\n    },\n    {\n      \"column\": \"data_stemmed\",\n      \"properties\": {\n        \"dtype\": \"string\",\n        \"num_unique_values\": 696,\n        \"samples\": [\n          \"turut aku sih ini terlalu dan gila ya step tidak jelas kasih waktu hanya 1 menit itu gimana sih konsep buat kalian yang komplek rumah blom di kuasain sama pertama media dan iconnet mending tidak deh langgan iconnet wifi cs dan layan bobrok\",\n          \"omong ip dari isp iconnet kena blok waf nya bsi ya iconnet begitu aku buka buat vpn dari ip aws aman aku kira layan bsi nya yang memang down dari jam 1 malam saat aku akses mbanking nya\",\n          \"iconnet kalau belum siap dan jaring nya tidak stabil mending banting stir jadi tukang pisang crispy weh anjing piaraleun\"\n        ],\n        \"semantic_type\": \"\",\n        \"description\": \"\"\n      }\n    },\n    {\n      \"column\": \"sentiment\",\n      \"properties\": {\n        \"dtype\": \"category\",\n        \"num_unique_values\": 3,\n        \"samples\": [\n          \"negative\",\n          \"positive\",\n          \"neutral\"\n        ],\n        \"semantic_type\": \"\",\n        \"description\": \"\"\n      }\n    }\n  ]\n}"
            }
          },
          "metadata": {},
          "execution_count": 22
        }
      ]
    },
    {
      "cell_type": "code",
      "source": [
        "# Inisialisasi objek TfidfVectorizer\n",
        "vectorizer = TfidfVectorizer()\n",
        "\n",
        "# Transformasi teks menjadi representasi TF-IDF\n",
        "vectors = vectorizer.fit_transform(df['data_stemmed'])\n",
        "\n",
        "# Menyimpan hasil TF-IDF ke file CSV\n",
        "df_tfidf.to_csv('data_tfidf.csv', index=False)\n",
        "\n",
        "# Menampilkan hasil\n",
        "print(vectors)"
      ],
      "metadata": {
        "id": "AJVz-ViNK3QH",
        "colab": {
          "base_uri": "https://localhost:8080/"
        },
        "outputId": "18f7948f-8848-4dd3-cba7-753c598fa74f"
      },
      "execution_count": 23,
      "outputs": [
        {
          "output_type": "stream",
          "name": "stdout",
          "text": [
            "  (0, 2117)\t0.4086815451571274\n",
            "  (0, 1960)\t0.4493912049243232\n",
            "  (0, 225)\t0.27015639900368826\n",
            "  (0, 1896)\t0.3636490852085891\n",
            "  (0, 732)\t0.08887594118538843\n",
            "  (0, 788)\t0.15276776146893867\n",
            "  (0, 1173)\t0.21450788483113092\n",
            "  (0, 1737)\t0.5313104550155383\n",
            "  (0, 951)\t0.25741104941241477\n",
            "  (1, 1180)\t0.24423720967585255\n",
            "  (1, 1677)\t0.2247194278045672\n",
            "  (1, 1763)\t0.4039367621541981\n",
            "  (1, 910)\t0.2700427552981626\n",
            "  (1, 134)\t0.28154384843217695\n",
            "  (1, 1782)\t0.37742431516254066\n",
            "  (1, 1692)\t0.2018204824674057\n",
            "  (1, 1799)\t0.23375276619203486\n",
            "  (1, 125)\t0.26400267267590244\n",
            "  (1, 1183)\t0.21403997153137025\n",
            "  (1, 1058)\t0.21964807015691232\n",
            "  (1, 606)\t0.17580528304172038\n",
            "  (1, 1424)\t0.22367320164770937\n",
            "  (1, 469)\t0.1778329723333389\n",
            "  (1, 216)\t0.24567436070972318\n",
            "  (2, 230)\t0.45747708855681346\n",
            "  :\t:\n",
            "  (705, 831)\t0.14939536031300787\n",
            "  (705, 1078)\t0.15658590689190946\n",
            "  (705, 336)\t0.15746517127399248\n",
            "  (705, 238)\t0.146551452586602\n",
            "  (705, 47)\t0.3175760924926471\n",
            "  (705, 799)\t0.10016454346252941\n",
            "  (705, 78)\t0.20431308825806827\n",
            "  (705, 1986)\t0.35892795982446113\n",
            "  (706, 315)\t0.4872630279960306\n",
            "  (706, 987)\t0.40935066097147355\n",
            "  (706, 983)\t0.4222807038955706\n",
            "  (706, 1522)\t0.19930090579591922\n",
            "  (706, 1449)\t0.26041667237376875\n",
            "  (706, 1072)\t0.20178954334049504\n",
            "  (706, 823)\t0.29521110634404074\n",
            "  (706, 84)\t0.19930090579591922\n",
            "  (706, 1066)\t0.29288568841743784\n",
            "  (706, 286)\t0.21970299982530764\n",
            "  (706, 732)\t0.08664403010600667\n",
            "  (707, 337)\t0.554636646843121\n",
            "  (707, 735)\t0.554636646843121\n",
            "  (707, 1383)\t0.4535075903983317\n",
            "  (707, 1072)\t0.22969088409327976\n",
            "  (707, 875)\t0.27361419140198695\n",
            "  (707, 84)\t0.22685814386135994\n"
          ]
        }
      ]
    },
    {
      "cell_type": "markdown",
      "source": [
        "##split data##"
      ],
      "metadata": {
        "id": "XS_fHmHYUrz1"
      }
    },
    {
      "cell_type": "code",
      "source": [
        "from sklearn.model_selection import train_test_split\n",
        "\n",
        "# Memisahkan data menjadi data latih dan data uji dan validasi\n",
        "x_train, x_temp, y_train, y_temp = train_test_split(x, y, test_size=0.3, random_state=42)\n",
        "\n",
        "# Memisahkan data menjadi data uji dan validasi (50%)\n",
        "x_test, x_val, y_test, y_val = train_test_split(x_temp, y_temp, test_size=0.5, random_state=42)\n",
        "\n",
        "# Menghitung jumlah sampel di setiap set data\n",
        "n_train = x_train.shape[0]\n",
        "n_test = x_test.shape[0]\n",
        "n_val = x_val.shape[0]"
      ],
      "metadata": {
        "id": "yBa_BlT6UaG6"
      },
      "execution_count": 24,
      "outputs": []
    },
    {
      "cell_type": "code",
      "source": [
        "# Konversi ke numpy arrays untuk memastikan indexing yang benar\n",
        "x_train = x_train.toarray() if hasattr(x_train, 'toarray') else x_train\n",
        "x_temp = x_temp.toarray() if hasattr(x_temp, 'toarray') else x_temp\n",
        "x_test = x_test.toarray() if hasattr(x_test, 'toarray') else x_test\n",
        "x_val = x_val.toarray() if hasattr(x_val, 'toarray') else x_val\n",
        "y_train = y_train.values if hasattr(y_train, 'values') else y_train\n",
        "y_temp = y_temp.values if hasattr(y_temp, 'values') else y_temp\n",
        "y_test = y_test.values if hasattr(y_test, 'values') else y_test\n",
        "y_val = y_val.values if hasattr(y_val, 'values') else y_val"
      ],
      "metadata": {
        "id": "iJAhd7kDl4Q6"
      },
      "execution_count": 25,
      "outputs": []
    },
    {
      "cell_type": "markdown",
      "source": [
        "##Visualisasi##"
      ],
      "metadata": {
        "id": "E4xBBI-0PzQw"
      }
    },
    {
      "cell_type": "code",
      "source": [
        "import seaborn as sns\n",
        "import matplotlib.pyplot as plt\n",
        "sns.set()\n",
        "\n",
        "# Data set dan jumlah sampel\n",
        "data_sets = ['Training', 'Testing', 'Validation']\n",
        "counts = [n_train, n_test, n_val]\n",
        "\n",
        "# Membuat plot bar dengan matplotlib\n",
        "plt.figure(figsize=(10, 6))\n",
        "bars = plt.bar(data_sets, counts, color=['blue', 'orange', 'green'])\n",
        "\n",
        "# Menambahkan anotasi pada batang\n",
        "for bar in bars:\n",
        "    yval = bar.get_height()\n",
        "    plt.text(bar.get_x() + bar.get_width()/2, yval + 0.5, int(yval), ha='center', va='bottom')\n",
        "\n",
        "# Menambahkan judul dan label sumbu\n",
        "plt.title('Distribusi Sampel di Set Data Latih, Uji, dan Validasi')\n",
        "plt.xlabel('Set Data')\n",
        "plt.ylabel('Jumlah Sampel')\n",
        "\n",
        "# Menampilkan plot\n",
        "plt.show()"
      ],
      "metadata": {
        "colab": {
          "base_uri": "https://localhost:8080/",
          "height": 424
        },
        "id": "xm3EZ-YiP26p",
        "outputId": "309ff8af-c82e-44d6-96d8-4dd9d30f0f49"
      },
      "execution_count": 26,
      "outputs": [
        {
          "output_type": "display_data",
          "data": {
            "text/plain": [
              "<Figure size 1000x600 with 1 Axes>"
            ],
            "image/png": "[encoded data removed]"
          },
          "metadata": {}
        }
      ]
    },
    {
      "cell_type": "markdown",
      "source": [
        "##klasifikasi SVM##"
      ],
      "metadata": {
        "id": "_O2IOwOHU9uo"
      }
    },
    {
      "cell_type": "code",
      "source": [
        "from sklearn.feature_extraction.text import TfidfVectorizer\n",
        "from sklearn.model_selection import StratifiedKFold\n",
        "from sklearn.svm import SVC\n",
        "from sklearn.metrics import accuracy_score, precision_score, recall_score, f1_score, confusion_matrix\n",
        "from imblearn.over_sampling import SMOTE\n",
        "from imblearn.pipeline import Pipeline\n",
        "from sklearn.preprocessing import StandardScaler\n",
        "import numpy as np\n",
        "import seaborn as sns\n",
        "import matplotlib.pyplot as plt"
      ],
      "metadata": {
        "id": "7y9-TD54Ux9d"
      },
      "execution_count": 27,
      "outputs": []
    },
    {
      "cell_type": "code",
      "source": [
        "# Inisialisasi model SVM dan pipeline\n",
        "pipeline = Pipeline([\n",
        "    ('scaler', StandardScaler(with_mean=False)),  # Normalisasi fitur tanpa mengatur mean\n",
        "    ('smote', SMOTE(random_state=42)),  # Oversampling\n",
        "    ('svm', SVC(kernel='sigmoid', random_state=42))  # SVM dengan kernel linear\n",
        "])\n",
        "\n",
        "# Inisialisasi StratifiedKFold\n",
        "kf = StratifiedKFold(n_splits=5, shuffle=True, random_state=42)\n",
        "\n",
        "# Inisialisasi variabel untuk menyimpan hasil\n",
        "all_y_true = []\n",
        "all_y_pred = []\n",
        "\n",
        "# Proses K-Fold Cross Validation\n",
        "for train_index, test_index in kf.split(x_train, y_train):\n",
        "    # Mengambil data berdasarkan indeks\n",
        "    x_train_fold, x_test_fold = x_train[train_index], x_train[test_index]\n",
        "    y_train_fold, y_test_fold = y_train[train_index], y_train[test_index]\n",
        "\n",
        "    # Melatih model\n",
        "    pipeline.fit(x_train_fold, y_train_fold)\n",
        "\n",
        "    # Memprediksi\n",
        "    y_pred = pipeline.predict(x_test_fold)\n",
        "\n",
        "    # Menyimpan hasil prediksi dan label sebenarnya\n",
        "    all_y_true.extend(y_test_fold)\n",
        "    all_y_pred.extend(y_pred)\n",
        "\n",
        "# Mengubah list menjadi array numpy\n",
        "all_y_true = np.array(all_y_true)\n",
        "all_y_pred = np.array(all_y_pred)"
      ],
      "metadata": {
        "id": "ObGEoD6qVI6L"
      },
      "execution_count": 28,
      "outputs": []
    },
    {
      "cell_type": "markdown",
      "source": [
        "##Evaluasi SVM##"
      ],
      "metadata": {
        "id": "dQT1H3tEVexh"
      }
    },
    {
      "cell_type": "code",
      "source": [
        "# Inisialisasi variabel untuk menyimpan confusion matrix\n",
        "conf_matrices = []\n",
        "\n",
        "# Menghitung confusion matrix untuk fold ini dan menyimpannya\n",
        "conf_matrix = confusion_matrix(y_test_fold, y_pred)\n",
        "conf_matrices.append(conf_matrix)\n",
        "\n",
        "# Menghitung rata-rata confusion matrix\n",
        "avg_conf_matrix = np.mean(conf_matrices, axis=0).astype(int)\n",
        "\n",
        "# Mengubah list menjadi array numpy\n",
        "all_y_true = np.array(all_y_true)\n",
        "all_y_pred = np.array(all_y_pred)\n",
        "\n",
        "# Menghitung metrik evaluasi\n",
        "accuracy = accuracy_score(all_y_true, all_y_pred)\n",
        "precision = precision_score(all_y_true, all_y_pred, average='weighted', zero_division=0)\n",
        "recall = recall_score(all_y_true, all_y_pred, average='weighted', zero_division=0)\n",
        "f1 = f1_score(all_y_true, all_y_pred, average='weighted', zero_division=0)\n",
        "\n",
        "# Menampilkan hasil evaluasi\n",
        "print(f\"Rata-rata Akurasi: {accuracy:.4f}\")\n",
        "print(f\"Rata-rata Precision: {precision:.4f}\")\n",
        "print(f\"Rata-rata Recall: {recall:.4f}\")\n",
        "print(f\"Rata-rata F1 Score: {f1:.4f}\")"
      ],
      "metadata": {
        "id": "IhROH2SLVXTY",
        "colab": {
          "base_uri": "https://localhost:8080/"
        },
        "outputId": "c5bc6ded-905d-4772-b71b-73de941444dc"
      },
      "execution_count": 29,
      "outputs": [
        {
          "output_type": "stream",
          "name": "stdout",
          "text": [
            "Rata-rata Akurasi: 0.8747\n",
            "Rata-rata Precision: 0.8326\n",
            "Rata-rata Recall: 0.8747\n",
            "Rata-rata F1 Score: 0.8516\n"
          ]
        }
      ]
    },
    {
      "cell_type": "code",
      "source": [
        "# Menampilkan confusion matrix\n",
        "plt.figure(figsize=(10, 7))\n",
        "sns.heatmap(avg_conf_matrix, annot=True, fmt='d', cmap='Blues',\n",
        "            xticklabels=np.unique(y), yticklabels=np.unique(y))\n",
        "plt.xlabel('Predicted Label')\n",
        "plt.ylabel('True Label')\n",
        "plt.title('Confusion Matrix')\n",
        "plt.show()"
      ],
      "metadata": {
        "id": "yjQD4-D65UUo",
        "colab": {
          "base_uri": "https://localhost:8080/",
          "height": 521
        },
        "outputId": "57291dc3-639c-464d-db08-b5233a2a89b8"
      },
      "execution_count": 30,
      "outputs": [
        {
          "output_type": "display_data",
          "data": {
            "text/plain": [
              "<Figure size 1000x700 with 2 Axes>"
            ],
            "image/png": "[encoded data removed]"
          },
          "metadata": {}
        }
      ]
    }
  ]
}